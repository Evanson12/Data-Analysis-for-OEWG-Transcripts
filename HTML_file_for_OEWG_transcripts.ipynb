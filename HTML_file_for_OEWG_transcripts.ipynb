{
  "nbformat": 4,
  "nbformat_minor": 0,
  "metadata": {
    "colab": {
      "provenance": [],
      "authorship_tag": "ABX9TyMuC7fLdK3gURKrOlrCo4Gl",
      "include_colab_link": true
    },
    "kernelspec": {
      "name": "python3",
      "display_name": "Python 3"
    },
    "language_info": {
      "name": "python"
    }
  },
  "cells": [
    {
      "cell_type": "markdown",
      "metadata": {
        "id": "view-in-github",
        "colab_type": "text"
      },
      "source": [
        "<a href=\"https://colab.research.google.com/github/Evanson12/Data-Analysis-for-OEWG-Transcripts/blob/main/HTML_file_for_OEWG_transcripts.ipynb\" target=\"_parent\"><img src=\"https://colab.research.google.com/assets/colab-badge.svg\" alt=\"Open In Colab\"/></a>"
      ]
    },
    {
      "cell_type": "code",
      "execution_count": 13,
      "metadata": {
        "colab": {
          "base_uri": "https://localhost:8080/"
        },
        "id": "_hQYZBtkEaC4",
        "outputId": "9edc03ef-f1b9-4102-9471-3a52851456f6"
      },
      "outputs": [
        {
          "output_type": "stream",
          "name": "stdout",
          "text": [
            "Drive already mounted at /content/drive; to attempt to forcibly remount, call drive.mount(\"/content/drive\", force_remount=True).\n",
            "             Speaker Timestamp  \\\n",
            "0  Ambassador Gafoor     00:00   \n",
            "1               Cuba     00:50   \n",
            "2  Ambassador Gafoor     07:29   \n",
            "3         Bangladesh     07:35   \n",
            "4  Ambassador Gafoor     11:31   \n",
            "\n",
            "                                           Statement  \n",
            "0  Distinguished delegates, the eighth meeting of...  \n",
            "1  Chair, the changing nature of information and ...  \n",
            "2  Thank you very much, Cuba. Bangladesh to be fo...  \n",
            "3  Thank you, Mr. Chair. Bangladesh believes that...  \n",
            "4  Thank you, Bangladesh. Belgium to be followed ...  \n",
            "Extracted data saved to 'extracted_data_1.csv'.\n"
          ]
        }
      ],
      "source": [
        "# Step 1: Mount Google Drive\n",
        "from google.colab import drive\n",
        "drive.mount('/content/drive')\n",
        "\n",
        "# Step 2: Read the HTML file\n",
        "from bs4 import BeautifulSoup, Comment  # Ensure Comment is imported\n",
        "\n",
        "# Path to the file in your Google Drive\n",
        "html_file_path = '/content/drive/My Drive/HTML/oewg7.html'\n",
        "\n",
        "# Read the HTML content\n",
        "with open(html_file_path, 'r', encoding='ISO-8859-1') as file:\n",
        "    html_content = file.read()\n",
        "\n",
        "# Step 3: Extract the required information using BeautifulSoup\n",
        "soup = BeautifulSoup(html_content, 'html.parser')\n",
        "\n",
        "speakers = []\n",
        "timestamps = []\n",
        "statements = []\n",
        "added_statements = set()  # Set to track added statements and prevent duplicates\n",
        "\n",
        "# Extracting all the blocks containing the speakers and timestamps\n",
        "for div in soup.find_all('div', class_='wp-block-columns is-not-stacked-on-mobile'):\n",
        "    # Extract Speaker\n",
        "    speaker_tag = div.find('h5', class_='wp-block-heading')\n",
        "    if speaker_tag:\n",
        "        speakers.append(speaker_tag.get_text(separator=' ', strip=True))\n",
        "    else:\n",
        "        speakers.append('')  # Append empty string if no speaker is found\n",
        "\n",
        "    # Extract Timestamp\n",
        "    timestamp_tag = div.find('p', class_='has-text-align-right')\n",
        "    if timestamp_tag:\n",
        "        timestamps.append(timestamp_tag.get_text(separator=' ', strip=True))\n",
        "    else:\n",
        "        timestamps.append('')  # Append empty string if no timestamp is found\n",
        "\n",
        "# Extracting the statements separately\n",
        "for comment in soup.find_all(string=lambda text: isinstance(text, Comment)):\n",
        "    if 'wp:paragraph' in comment:\n",
        "        # Get the next <p> tag after the comment that has no class\n",
        "        p_tag = comment.find_next_sibling('p')\n",
        "        if p_tag and not p_tag.get('class'):  # Ensure the <p> tag has no class attribute\n",
        "            statement = p_tag.get_text(separator=' ', strip=True)\n",
        "            if statement not in added_statements:\n",
        "                statements.append(statement)\n",
        "                added_statements.add(statement)  # Mark this statement as added\n",
        "\n",
        "# Ensure all lists are of the same length by padding with empty strings\n",
        "max_length = max(len(speakers), len(timestamps), len(statements))\n",
        "\n",
        "while len(speakers) < max_length:\n",
        "    speakers.append('')\n",
        "\n",
        "while len(timestamps) < max_length:\n",
        "    timestamps.append('')\n",
        "\n",
        "while len(statements) < max_length:\n",
        "    statements.append('')\n",
        "\n",
        "# Create a DataFrame with the extracted data\n",
        "import pandas as pd\n",
        "\n",
        "data = {\n",
        "    'Speaker': speakers,\n",
        "    'Timestamp': timestamps,\n",
        "    'Statement': statements\n",
        "}\n",
        "\n",
        "df = pd.DataFrame(data)\n",
        "\n",
        "# Display the extracted data\n",
        "print(df.head())\n",
        "\n",
        "# Step 4: Save the extracted data to a CSV file with a numbered filename\n",
        "file_number = +1  # Update this number manually for each run\n",
        "\n",
        "# Path to save the extracted data\n",
        "extracted_data_path = f'/content/drive/My Drive/HTML/extracted_data_{file_number}.csv'\n",
        "\n",
        "# Save the extracted data to a CSV file\n",
        "df.to_csv(extracted_data_path, index=False)\n",
        "print(f\"Extracted data saved to 'extracted_data_{file_number}.csv'.\")\n"
      ]
    }
  ]
}